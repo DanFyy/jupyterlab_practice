{
 "cells": [
  {
   "cell_type": "markdown",
   "id": "f1e0950a-74bb-40b3-9674-61b8ce8fa2e1",
   "metadata": {},
   "source": [
    "# Daniel Yang's Notebook for assignment 7"
   ]
  },
  {
   "cell_type": "code",
   "execution_count": 1,
   "id": "8320707f-9240-43a4-afe6-ec7731af1f42",
   "metadata": {},
   "outputs": [
    {
     "name": "stdout",
     "output_type": "stream",
     "text": [
      "5.0\n"
     ]
    }
   ],
   "source": [
    "def compute_mean(lst):\n",
    "    \"\"\"Computes the mean of the values in a list\"\"\"\n",
    "    if len(lst) == 0:\n",
    "        return 0\n",
    "    else:\n",
    "        return sum(lst) / len(lst)\n",
    "\n",
    "result = compute_mean([2, 4, 6, 8])\n",
    "print(result)"
   ]
  },
  {
   "cell_type": "markdown",
   "id": "eeeb40ab-b411-440d-b40f-c60d8e9ebe30",
   "metadata": {},
   "source": [
    "The code above defines a function compute_mean that computes the mean of a list of numbers by summing up the values in the list and dividing by the number of elements in the list. The function takes one argument, a list of numbers, and returns the mean.\n",
    "\n",
    "At the bottom of the code cell, we call the compute_mean function with the list [2, 4, 6, 8] and store the result in a variable called result. Finally, we print out the value of result, which should be the mean of the list."
   ]
  },
  {
   "cell_type": "markdown",
   "id": "5ac67da2-0f21-4ae4-af57-aa325ae41e61",
   "metadata": {},
   "source": [
    "Equation\n",
    "The equation for the mean of a list of numbers is:\n",
    "\n",
    "x̄ = n 1​∑ i=1 n​x i​= n x 1​+x 2​+⋯+x n​​\n",
    "\n",
    "where $\\bar{x}$ is the mean, $n$ is the number of elements in the list, and $x_i$ is the $i$-th element of the list.\n",
    "\n",
    "Another way to express the equation for the mean is:\n",
    "\n",
    "x̄ = n 1​(∑ i=1 n​x i​)= n 1​(n⋅ n 1​∑ i=1 n​x i​)= n 1​(n x̄ )= x̄\n",
    " \n",
    "\n",
    "where the first step is the same as the previous equation, but the remaining steps show how the mean can also be expressed as the sum of the elements divided by the number of elements, which is then multiplied by the factor $\\frac{1}{n} \\cdot n = 1$."
   ]
  }
 ],
 "metadata": {
  "kernelspec": {
   "display_name": "Python 3 (ipykernel)",
   "language": "python",
   "name": "python3"
  },
  "language_info": {
   "codemirror_mode": {
    "name": "ipython",
    "version": 3
   },
   "file_extension": ".py",
   "mimetype": "text/x-python",
   "name": "python",
   "nbconvert_exporter": "python",
   "pygments_lexer": "ipython3",
   "version": "3.10.9"
  }
 },
 "nbformat": 4,
 "nbformat_minor": 5
}
